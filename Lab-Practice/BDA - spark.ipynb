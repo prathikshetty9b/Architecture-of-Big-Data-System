{
 "cells": [
  {
   "cell_type": "code",
   "execution_count": 1,
   "id": "80c4aa22",
   "metadata": {},
   "outputs": [],
   "source": [
    "import pyspark\n",
    "\n",
    "from pyspark.sql import SparkSession\n",
    "spark = SparkSession.builder.appName('first spark program').getOrCreate()"
   ]
  },
  {
   "cell_type": "code",
   "execution_count": 2,
   "id": "8743540f",
   "metadata": {},
   "outputs": [
    {
     "data": {
      "text/plain": [
       "pyspark.sql.session.SparkSession"
      ]
     },
     "execution_count": 2,
     "metadata": {},
     "output_type": "execute_result"
    }
   ],
   "source": [
    "type(spark)"
   ]
  },
  {
   "cell_type": "code",
   "execution_count": 3,
   "id": "fa4f6fc9",
   "metadata": {},
   "outputs": [
    {
     "data": {
      "text/plain": [
       "4"
      ]
     },
     "execution_count": 3,
     "metadata": {},
     "output_type": "execute_result"
    }
   ],
   "source": [
    "# craete RDD using parallelize method\n",
    "\n",
    "par_rdd = spark.sparkContext.parallelize([\"hello\",\"hi\",\"welcome to msis\",\"manipal\"])\n",
    "#type(par_rdd)\n",
    "#par_rdd.collect()\n",
    "par_rdd.count()"
   ]
  },
  {
   "cell_type": "code",
   "execution_count": 4,
   "id": "5c73caff",
   "metadata": {},
   "outputs": [
    {
     "data": {
      "text/plain": [
       "['Hello this a test text file']"
      ]
     },
     "execution_count": 4,
     "metadata": {},
     "output_type": "execute_result"
    }
   ],
   "source": [
    "#RDD from DataSource\n",
    "ds_rdd = spark.sparkContext.textFile('..\\input.txt')\n",
    "ds_rdd.collect()\n",
    "#ds_rdd.count()"
   ]
  },
  {
   "cell_type": "code",
   "execution_count": 5,
   "id": "dab5dc32",
   "metadata": {},
   "outputs": [],
   "source": [
    "#Create RDD using transformation\n",
    "\n",
    "trans_rdd = par_rdd.flatMap(lambda data : data.split(' '))"
   ]
  },
  {
   "cell_type": "code",
   "execution_count": 6,
   "id": "6dda0197",
   "metadata": {},
   "outputs": [
    {
     "data": {
      "text/plain": [
       "['hello', 'hi', 'welcome', 'to', 'msis', 'manipal']"
      ]
     },
     "execution_count": 6,
     "metadata": {},
     "output_type": "execute_result"
    }
   ],
   "source": [
    "trans_rdd.collect()"
   ]
  },
  {
   "cell_type": "code",
   "execution_count": 7,
   "id": "e2707882",
   "metadata": {},
   "outputs": [
    {
     "data": {
      "text/plain": [
       "[('hello', 1),\n",
       " ('to', 1),\n",
       " ('manipal', 1),\n",
       " ('msis', 1),\n",
       " ('hi', 1),\n",
       " ('welcome', 1)]"
      ]
     },
     "execution_count": 7,
     "metadata": {},
     "output_type": "execute_result"
    }
   ],
   "source": [
    "tup_rdd = trans_rdd.map(lambda data: (data, 1))\n",
    "tup_rdd.reduceByKey(lambda a,b:a+b).collect()"
   ]
  },
  {
   "cell_type": "code",
   "execution_count": 8,
   "id": "a28f5874",
   "metadata": {},
   "outputs": [
    {
     "data": {
      "text/plain": [
       "[('Hello', 1), ('this', 1), ('test', 1), ('a', 1), ('text', 1), ('file', 1)]"
      ]
     },
     "execution_count": 8,
     "metadata": {},
     "output_type": "execute_result"
    }
   ],
   "source": [
    "#(In one line)\n",
    "ds_rdd = spark.sparkContext.textFile('..\\input.txt')\n",
    "ds_rdd.flatMap(lambda d: d.split(' ')).map(lambda d:(d,1)).reduceByKey(lambda a,b:a+b).collect()"
   ]
  },
  {
   "cell_type": "code",
   "execution_count": 9,
   "id": "a91df901",
   "metadata": {},
   "outputs": [
    {
     "data": {
      "text/plain": [
       "['Hello this a test text file']"
      ]
     },
     "execution_count": 9,
     "metadata": {},
     "output_type": "execute_result"
    }
   ],
   "source": [
    "ds_rdd = spark.sparkContext.textFile('..\\input.txt')\n",
    "ds_rdd.flatMap(lambda d: d.split(' '))\n",
    "ds_rdd.collect()"
   ]
  },
  {
   "cell_type": "code",
   "execution_count": null,
   "id": "08217ef3",
   "metadata": {},
   "outputs": [],
   "source": []
  }
 ],
 "metadata": {
  "kernelspec": {
   "display_name": "Python 3 (ipykernel)",
   "language": "python",
   "name": "python3"
  },
  "language_info": {
   "codemirror_mode": {
    "name": "ipython",
    "version": 3
   },
   "file_extension": ".py",
   "mimetype": "text/x-python",
   "name": "python",
   "nbconvert_exporter": "python",
   "pygments_lexer": "ipython3",
   "version": "3.8.12"
  }
 },
 "nbformat": 4,
 "nbformat_minor": 5
}
